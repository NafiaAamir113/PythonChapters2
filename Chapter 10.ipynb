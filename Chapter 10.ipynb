{
 "cells": [
  {
   "cell_type": "markdown",
   "id": "9b17ea0e",
   "metadata": {},
   "source": [
    "# Title: TUPLES"
   ]
  },
  {
   "cell_type": "code",
   "execution_count": 2,
   "id": "63398944",
   "metadata": {},
   "outputs": [
    {
     "name": "stdout",
     "output_type": "stream",
     "text": [
      "Joseph\n",
      "1\n",
      "10\n",
      "1\n",
      "9\n",
      "10\n"
     ]
    }
   ],
   "source": [
    "# Tuples are like list\n",
    "x = ('Glenn', 'Sally', 'Joseph')\n",
    "print(x[2])\n",
    "y = (1,9,10)\n",
    "print(y[0])\n",
    "print(max(y))\n",
    "for iter in y:\n",
    "    print(iter)"
   ]
  },
  {
   "cell_type": "code",
   "execution_count": 6,
   "id": "a47dfe6e",
   "metadata": {},
   "outputs": [
    {
     "name": "stdout",
     "output_type": "stream",
     "text": [
      "[9, 8, 6]\n"
     ]
    }
   ],
   "source": [
    "x = [9, 8, 7]\n",
    "x[2] = 6\n",
    "print(x)"
   ]
  },
  {
   "cell_type": "markdown",
   "id": "08efb6d1",
   "metadata": {},
   "source": [
    "# Tale of two Sequences"
   ]
  },
  {
   "cell_type": "code",
   "execution_count": 9,
   "id": "f148a8f2",
   "metadata": {},
   "outputs": [
    {
     "name": "stdout",
     "output_type": "stream",
     "text": [
      "['__add__', '__class__', '__class_getitem__', '__contains__', '__delattr__', '__delitem__', '__dir__', '__doc__', '__eq__', '__format__', '__ge__', '__getattribute__', '__getitem__', '__getstate__', '__gt__', '__hash__', '__iadd__', '__imul__', '__init__', '__init_subclass__', '__iter__', '__le__', '__len__', '__lt__', '__mul__', '__ne__', '__new__', '__reduce__', '__reduce_ex__', '__repr__', '__reversed__', '__rmul__', '__setattr__', '__setitem__', '__sizeof__', '__str__', '__subclasshook__', 'append', 'clear', 'copy', 'count', 'extend', 'index', 'insert', 'pop', 'remove', 'reverse', 'sort']\n",
      "['__add__', '__class__', '__class_getitem__', '__contains__', '__delattr__', '__dir__', '__doc__', '__eq__', '__format__', '__ge__', '__getattribute__', '__getitem__', '__getnewargs__', '__getstate__', '__gt__', '__hash__', '__init__', '__init_subclass__', '__iter__', '__le__', '__len__', '__lt__', '__mul__', '__ne__', '__new__', '__reduce__', '__reduce_ex__', '__repr__', '__rmul__', '__setattr__', '__sizeof__', '__str__', '__subclasshook__', 'count', 'index']\n"
     ]
    }
   ],
   "source": [
    "l= list()\n",
    "print(dir(l))\n",
    "t = tuple()\n",
    "print(dir(t))"
   ]
  },
  {
   "cell_type": "code",
   "execution_count": 3,
   "id": "d55f91a1",
   "metadata": {},
   "outputs": [
    {
     "name": "stdout",
     "output_type": "stream",
     "text": [
      "fred\n",
      "99\n"
     ]
    }
   ],
   "source": [
    "# Tuples and Assignment\n",
    "(x,y)= (1,'fred')\n",
    "print(y)\n",
    "(a,b)= (99,88)\n",
    "print(a)"
   ]
  },
  {
   "cell_type": "markdown",
   "id": "08f12750",
   "metadata": {},
   "source": [
    "# Tuples and Dictonaries"
   ]
  },
  {
   "cell_type": "code",
   "execution_count": 18,
   "id": "6cb8cfe0",
   "metadata": {},
   "outputs": [
    {
     "name": "stdout",
     "output_type": "stream",
     "text": [
      "csev 2\n",
      "cwen 4\n"
     ]
    }
   ],
   "source": [
    "d = dict()\n",
    "d['csev'] = 2\n",
    "d['cwen'] = 4\n",
    "for (k,v) in d.items(): \n",
    "    print(k,v)"
   ]
  },
  {
   "cell_type": "code",
   "execution_count": 19,
   "id": "9d081293",
   "metadata": {},
   "outputs": [
    {
     "name": "stdout",
     "output_type": "stream",
     "text": [
      "dict_items([('csev', 2), ('cwen', 4)])\n"
     ]
    }
   ],
   "source": [
    "d = dict()\n",
    "d['csev'] = 2\n",
    "d['cwen'] = 4\n",
    "tups = d.items()\n",
    "print(tups)"
   ]
  },
  {
   "cell_type": "markdown",
   "id": "e4db56ab",
   "metadata": {},
   "source": [
    "# Tuples are Comparable"
   ]
  },
  {
   "cell_type": "code",
   "execution_count": 23,
   "id": "5c9b021d",
   "metadata": {},
   "outputs": [
    {
     "name": "stdout",
     "output_type": "stream",
     "text": [
      "False\n",
      "True\n",
      "True\n"
     ]
    }
   ],
   "source": [
    "print((0,1,2)>(9,10,12))\n",
    "print((0, 1, 2000000) < (0, 3, 4))\n",
    "print(( 'Jones', 'Sally' ) < ('Jones', 'Sam'))  "
   ]
  },
  {
   "cell_type": "markdown",
   "id": "ebdd25fa",
   "metadata": {},
   "source": [
    "# Sorting List of Tuples"
   ]
  },
  {
   "cell_type": "code",
   "execution_count": 28,
   "id": "1c3fb34b",
   "metadata": {},
   "outputs": [
    {
     "name": "stdout",
     "output_type": "stream",
     "text": [
      "dict_items([('a', 10), ('b', 1), ('c', 22)])\n",
      "[('a', 10), ('b', 1), ('c', 22)]\n"
     ]
    }
   ],
   "source": [
    "d = {'a':10, 'b':1, 'c':22}\n",
    "print(d.items())\n",
    "print(sorted(d.items()))"
   ]
  },
  {
   "cell_type": "code",
   "execution_count": 31,
   "id": "ff19d57c",
   "metadata": {},
   "outputs": [
    {
     "name": "stdout",
     "output_type": "stream",
     "text": [
      "[('a', 10), ('b', 1), ('c', 22)]\n",
      "a 10\n",
      "b 1\n",
      "c 22\n"
     ]
    }
   ],
   "source": [
    "d = {'a':10, 'b':1, 'c':22}\n",
    "t = sorted(d.items())\n",
    "print(t)\n",
    "for k,v in t:\n",
    "    print(k,v)"
   ]
  },
  {
   "cell_type": "markdown",
   "id": "5a72981d",
   "metadata": {},
   "source": [
    "# Sorting by values instead of keys"
   ]
  },
  {
   "cell_type": "code",
   "execution_count": 5,
   "id": "9b38061c",
   "metadata": {},
   "outputs": [
    {
     "name": "stdout",
     "output_type": "stream",
     "text": [
      "[('a', 10)]\n",
      "[('a', 10), ('b', 1)]\n",
      "[('a', 10), ('b', 1), ('c', 22)]\n",
      "[('c', 22), ('b', 1), ('a', 10)]\n"
     ]
    }
   ],
   "source": [
    "l = {'a':10, 'b':1, 'c':22}\n",
    "tmp = list()\n",
    "for list in l.items() :\n",
    "    tmp.append((list))\n",
    "    print(tmp)\n",
    "tmp = sorted(tmp, reverse=True)\n",
    "print(tmp)"
   ]
  },
  {
   "cell_type": "code",
   "execution_count": 36,
   "id": "bd3d7e6a",
   "metadata": {
    "scrolled": true
   },
   "outputs": [
    {
     "name": "stdout",
     "output_type": "stream",
     "text": [
      "\\n 4\n",
      "From: 4\n",
      "Jan 2\n",
      "5 2\n",
      "zqian@umich.edu\\n 1\n",
      "stephen.marquard@uct.ac.za\\n 1\n",
      "stephen.marquard@uct.ac.za 1\n",
      "source@collab.sakaiproject.org\\n 1\n",
      "rjlowe@iupui.edu\\n 1\n",
      "louis@media.berkeley.edu\\n 1\n"
     ]
    }
   ],
   "source": [
    "fhand = open('filesfolder.txt')\n",
    "counts = {}\n",
    "for line in fhand:\n",
    "    words = line.split()\n",
    "    for word in words:\n",
    "        counts[word] = counts.get(word, 0 ) + 1\n",
    "lst = []\n",
    "for key, val in counts.items():\n",
    "    newtup = (val, key)\n",
    "    lst.append(newtup)\n",
    "lst = sorted(lst, reverse=True)\n",
    "for val, key in lst[:10] :\n",
    "    print(key, val)"
   ]
  },
  {
   "cell_type": "markdown",
   "id": "f3cec145",
   "metadata": {},
   "source": [
    "# Shorter Version"
   ]
  },
  {
   "cell_type": "code",
   "execution_count": 37,
   "id": "93f685f7",
   "metadata": {},
   "outputs": [
    {
     "name": "stdout",
     "output_type": "stream",
     "text": [
      "[(1, 'b'), (10, 'a'), (22, 'c')]\n"
     ]
    }
   ],
   "source": [
    "c = {'a':10, 'b':1, 'c':22}\n",
    "print( sorted( [ (v,k) for k,v in c.items() ] ) )\n"
   ]
  },
  {
   "cell_type": "code",
   "execution_count": null,
   "id": "13c7bfcd",
   "metadata": {},
   "outputs": [],
   "source": []
  }
 ],
 "metadata": {
  "kernelspec": {
   "display_name": "Python 3 (ipykernel)",
   "language": "python",
   "name": "python3"
  },
  "language_info": {
   "codemirror_mode": {
    "name": "ipython",
    "version": 3
   },
   "file_extension": ".py",
   "mimetype": "text/x-python",
   "name": "python",
   "nbconvert_exporter": "python",
   "pygments_lexer": "ipython3",
   "version": "3.11.4"
  }
 },
 "nbformat": 4,
 "nbformat_minor": 5
}
