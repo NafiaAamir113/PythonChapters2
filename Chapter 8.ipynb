{
 "cells": [
  {
   "cell_type": "markdown",
   "id": "b29f2c7b",
   "metadata": {},
   "source": [
    "# TITLE: LISTS"
   ]
  },
  {
   "cell_type": "markdown",
   "id": "bd68ef1b",
   "metadata": {},
   "source": [
    "# List Constants"
   ]
  },
  {
   "cell_type": "code",
   "execution_count": 1,
   "id": "95c11595",
   "metadata": {},
   "outputs": [
    {
     "name": "stdout",
     "output_type": "stream",
     "text": [
      "[1, 24, 76]\n",
      "['RED', 'YELLOW', 'BLUE']\n",
      "['RED', 24, 98.6]\n",
      "[1, [5, 6], 7]\n",
      "[]\n"
     ]
    }
   ],
   "source": [
    "print([1,24,76])\n",
    "print(['RED','YELLOW','BLUE']) \n",
    "print(['RED', 24, 98.6])\n",
    "print([ 1, [5, 6], 7]) \n",
    "print([])"
   ]
  },
  {
   "cell_type": "markdown",
   "id": "ee9a28e6",
   "metadata": {},
   "source": [
    "# List and Definite Loops"
   ]
  },
  {
   "cell_type": "code",
   "execution_count": 2,
   "id": "96e7919f",
   "metadata": {},
   "outputs": [
    {
     "name": "stdout",
     "output_type": "stream",
     "text": [
      "Joseph\n",
      "Glen\n",
      "Sally\n",
      "Done!\n"
     ]
    }
   ],
   "source": [
    "friends = ['Joseph','Glen','Sally']\n",
    "for friend in friends:\n",
    "    print(friend)\n",
    "print('Done!')"
   ]
  },
  {
   "cell_type": "code",
   "execution_count": 3,
   "id": "9a5d3c21",
   "metadata": {},
   "outputs": [
    {
     "name": "stdout",
     "output_type": "stream",
     "text": [
      "Happy new year my friend Joseph\n",
      "Happy new year my friend Glen\n",
      "Happy new year my friend Sally\n",
      "Done!\n"
     ]
    }
   ],
   "source": [
    "friends = ['Joseph','Glen','Sally']\n",
    "for friend in friends:\n",
    "    print('Happy new year my friend',friend)\n",
    "print('Done!')"
   ]
  },
  {
   "cell_type": "markdown",
   "id": "f78ee28a",
   "metadata": {},
   "source": [
    "# Accessing Single Element Using Index"
   ]
  },
  {
   "cell_type": "code",
   "execution_count": 4,
   "id": "2db38c68",
   "metadata": {},
   "outputs": [
    {
     "name": "stdout",
     "output_type": "stream",
     "text": [
      "Joseph\n"
     ]
    }
   ],
   "source": [
    "friends = ['Joseph','Glen','Sally']\n",
    "print(friends[0])"
   ]
  },
  {
   "cell_type": "markdown",
   "id": "968294b5",
   "metadata": {},
   "source": [
    "# Lists are mutable"
   ]
  },
  {
   "cell_type": "code",
   "execution_count": 5,
   "id": "de8f6d91",
   "metadata": {},
   "outputs": [
    {
     "name": "stdout",
     "output_type": "stream",
     "text": [
      "banana\n",
      "[2, 14, 26, 41, 63]\n",
      "[2, 14, 2, 41, 63]\n"
     ]
    }
   ],
   "source": [
    "fruit = 'Banana'\n",
    "x = fruit.lower()\n",
    "print(x)\n",
    "lotto = [2, 14, 26, 41, 63]\n",
    "print(lotto)\n",
    "#Replace index 2 element 26 with 2\n",
    "lotto[2] = 2\n",
    "print(lotto)"
   ]
  },
  {
   "cell_type": "markdown",
   "id": "615e3900",
   "metadata": {},
   "source": [
    "# len and range"
   ]
  },
  {
   "cell_type": "code",
   "execution_count": 6,
   "id": "6184041a",
   "metadata": {},
   "outputs": [
    {
     "name": "stdout",
     "output_type": "stream",
     "text": [
      "9\n",
      "4\n"
     ]
    }
   ],
   "source": [
    "greet = 'Hello Bob'\n",
    "print(len(greet))\n",
    "x = [ 1, 2, 'joe', 99]\n",
    "print(len(x))"
   ]
  },
  {
   "cell_type": "code",
   "execution_count": 1,
   "id": "c399807e",
   "metadata": {},
   "outputs": [
    {
     "name": "stdout",
     "output_type": "stream",
     "text": [
      "0\n",
      "1\n",
      "2\n",
      "3\n"
     ]
    }
   ],
   "source": [
    "my_range = range(4)\n",
    "for num in my_range:\n",
    "    print(num)"
   ]
  },
  {
   "cell_type": "code",
   "execution_count": 18,
   "id": "29b3c092",
   "metadata": {},
   "outputs": [
    {
     "name": "stdout",
     "output_type": "stream",
     "text": [
      "F\n",
      "r\n",
      "i\n",
      "e\n",
      "n\n",
      "d\n",
      "s\n"
     ]
    }
   ],
   "source": [
    "range = \"Friends\"\n",
    "for a in range:\n",
    "    print(a)"
   ]
  },
  {
   "cell_type": "code",
   "execution_count": 7,
   "id": "71141c2a",
   "metadata": {},
   "outputs": [
    {
     "name": "stdout",
     "output_type": "stream",
     "text": [
      "3\n"
     ]
    }
   ],
   "source": [
    "friends = ['Joseph', 'Glenn', 'Sally']\n",
    "print(len(friends))"
   ]
  },
  {
   "cell_type": "code",
   "execution_count": 2,
   "id": "eb1ae185",
   "metadata": {
    "scrolled": true
   },
   "outputs": [
    {
     "name": "stdout",
     "output_type": "stream",
     "text": [
      "Happy New Year: Joseph\n",
      "Happy New Year: Glenn\n",
      "Happy New Year: Sally\n",
      "Happy New Year: Sally\n"
     ]
    }
   ],
   "source": [
    "friends = ['Joseph', 'Glenn', 'Sally']\n",
    "for friend in friends:\n",
    "    print('Happy New Year:', friend)\n",
    "for i in friends:\n",
    "     i = friends\n",
    "print('Happy New Year:', friend)"
   ]
  },
  {
   "cell_type": "markdown",
   "id": "c0f2a643",
   "metadata": {},
   "source": [
    "# Concatenating List"
   ]
  },
  {
   "cell_type": "code",
   "execution_count": 3,
   "id": "08828e98",
   "metadata": {},
   "outputs": [
    {
     "name": "stdout",
     "output_type": "stream",
     "text": [
      "[1, 2, 3, 4, 5, 6]\n",
      "[1, 2, 3]\n"
     ]
    }
   ],
   "source": [
    "a = [1, 2, 3]\n",
    "b = [4, 5, 6]\n",
    "c = a + b\n",
    "print(c)\n",
    "print(a)"
   ]
  },
  {
   "cell_type": "markdown",
   "id": "52aef40b",
   "metadata": {},
   "source": [
    "# Slicing"
   ]
  },
  {
   "cell_type": "code",
   "execution_count": 4,
   "id": "22007c7c",
   "metadata": {},
   "outputs": [
    {
     "name": "stdout",
     "output_type": "stream",
     "text": [
      "[1, 12, 65, 77]\n",
      "[77, 84, 45]\n",
      "[1, 12, 65]\n",
      "[1, 12, 65, 77, 84, 45]\n"
     ]
    }
   ],
   "source": [
    "t = [1,12,65,77,84,45]\n",
    "print(t[0:4])\n",
    "# starts from 3 index\n",
    "print(t[3:])\n",
    "# starts from 0 index\n",
    "print(t[:3])\n",
    "print(t[:])"
   ]
  },
  {
   "cell_type": "markdown",
   "id": "ce2a3d94",
   "metadata": {},
   "source": [
    "# Methods"
   ]
  },
  {
   "cell_type": "code",
   "execution_count": 5,
   "id": "96b60375",
   "metadata": {},
   "outputs": [
    {
     "name": "stdout",
     "output_type": "stream",
     "text": [
      "<class 'list'>\n",
      "['__add__', '__class__', '__class_getitem__', '__contains__', '__delattr__', '__delitem__', '__dir__', '__doc__', '__eq__', '__format__', '__ge__', '__getattribute__', '__getitem__', '__getstate__', '__gt__', '__hash__', '__iadd__', '__imul__', '__init__', '__init_subclass__', '__iter__', '__le__', '__len__', '__lt__', '__mul__', '__ne__', '__new__', '__reduce__', '__reduce_ex__', '__repr__', '__reversed__', '__rmul__', '__setattr__', '__setitem__', '__sizeof__', '__str__', '__subclasshook__', 'append', 'clear', 'copy', 'count', 'extend', 'index', 'insert', 'pop', 'remove', 'reverse', 'sort']\n"
     ]
    }
   ],
   "source": [
    "x = list()\n",
    "print(type(x))\n",
    "print(dir(x))"
   ]
  },
  {
   "cell_type": "markdown",
   "id": "5748744a",
   "metadata": {},
   "source": [
    "# List from Scratch"
   ]
  },
  {
   "cell_type": "code",
   "execution_count": 14,
   "id": "ee252ada",
   "metadata": {},
   "outputs": [
    {
     "name": "stdout",
     "output_type": "stream",
     "text": [
      "['book', 99, 'cookie']\n"
     ]
    }
   ],
   "source": [
    "stuff = list()\n",
    "stuff.append('book')\n",
    "stuff.append(99)\n",
    "stuff.append('cookie')\n",
    "print(stuff)"
   ]
  },
  {
   "cell_type": "markdown",
   "id": "64fb91b0",
   "metadata": {},
   "source": [
    "# Something in a list"
   ]
  },
  {
   "cell_type": "code",
   "execution_count": 5,
   "id": "21729fbf",
   "metadata": {},
   "outputs": [
    {
     "name": "stdout",
     "output_type": "stream",
     "text": [
      "True\n",
      "False\n",
      "True\n"
     ]
    }
   ],
   "source": [
    "list= [10,12,87,99,45]\n",
    "print(12 in list)\n",
    "print(1 in list)\n",
    "print(99 in list)"
   ]
  },
  {
   "cell_type": "markdown",
   "id": "83378055",
   "metadata": {},
   "source": [
    "# List in Order"
   ]
  },
  {
   "cell_type": "code",
   "execution_count": 16,
   "id": "ba602d5d",
   "metadata": {},
   "outputs": [
    {
     "name": "stdout",
     "output_type": "stream",
     "text": [
      "['Glenn', 'Joseph', 'Sally']\n"
     ]
    }
   ],
   "source": [
    "friends = ['Joseph','Glenn','Sally']\n",
    "friends.sort()\n",
    "print(friends)"
   ]
  },
  {
   "cell_type": "markdown",
   "id": "017f961d",
   "metadata": {},
   "source": [
    "# Built-in-Functions-and-lists"
   ]
  },
  {
   "cell_type": "code",
   "execution_count": 17,
   "id": "0a245e05",
   "metadata": {},
   "outputs": [
    {
     "name": "stdout",
     "output_type": "stream",
     "text": [
      "154\n",
      "6\n",
      "74\n",
      "3\n",
      "25.666666666666668\n"
     ]
    }
   ],
   "source": [
    "nums = [3, 41, 12, 9, 74, 15]\n",
    "print(sum(nums))\n",
    "print(len(nums))\n",
    "print(max(nums))\n",
    "print(min(nums))\n",
    "print(sum(nums)/len(nums))"
   ]
  },
  {
   "cell_type": "code",
   "execution_count": 18,
   "id": "1965071a",
   "metadata": {},
   "outputs": [
    {
     "name": "stdout",
     "output_type": "stream",
     "text": [
      "Enter a number:3\n",
      "Enter a number:5\n",
      "Enter a number:7\n",
      "Enter a number:done\n",
      "Average: 5.0\n"
     ]
    }
   ],
   "source": [
    "total = 0\n",
    "count = 0\n",
    "while True:\n",
    "    inp = input(\"Enter a number:\")\n",
    "    if inp == 'done': break\n",
    "    a = float(inp)\n",
    "    total = total + a\n",
    "    count = count + 1\n",
    "average = total/count\n",
    "print('Average:',average)    "
   ]
  },
  {
   "cell_type": "code",
   "execution_count": 19,
   "id": "8aa533f1",
   "metadata": {},
   "outputs": [
    {
     "name": "stdout",
     "output_type": "stream",
     "text": [
      "Enter a number:3\n",
      "Enter a number:7\n",
      "Enter a number:8\n",
      "Enter a number:8\n",
      "Enter a number:8\n",
      "Enter a number:done\n",
      "Average: 6.8\n"
     ]
    }
   ],
   "source": [
    "sum = 0\n",
    "len = 0\n",
    "while True:\n",
    "    inp = input(\"Enter a number:\")\n",
    "    if inp == 'done': break\n",
    "    value = float(inp)\n",
    "    sum = sum + value\n",
    "    len = len + 1\n",
    "average = sum/len\n",
    "print('Average:',average) "
   ]
  },
  {
   "cell_type": "markdown",
   "id": "8338251a",
   "metadata": {},
   "source": [
    "# Strings and Lists"
   ]
  },
  {
   "cell_type": "code",
   "execution_count": 6,
   "id": "196f3421",
   "metadata": {},
   "outputs": [
    {
     "name": "stdout",
     "output_type": "stream",
     "text": [
      "['With', 'three', 'words']\n",
      "3\n",
      "range(0, 3)\n",
      "With\n"
     ]
    }
   ],
   "source": [
    "abc = 'With three words'\n",
    "stuff = abc.split()\n",
    "print(stuff)\n",
    "print(len(stuff))\n",
    "print(r)\n",
    "print(stuff[0])"
   ]
  },
  {
   "cell_type": "code",
   "execution_count": 7,
   "id": "bb9c1051",
   "metadata": {},
   "outputs": [
    {
     "name": "stdout",
     "output_type": "stream",
     "text": [
      "['With', 'three', 'words']\n",
      "With\n",
      "three\n",
      "words\n"
     ]
    }
   ],
   "source": [
    "stuff = ['With', 'three', 'words']\n",
    "print(stuff)\n",
    "for w in stuff:\n",
    "    print(w)"
   ]
  },
  {
   "cell_type": "code",
   "execution_count": 9,
   "id": "6b93912b",
   "metadata": {},
   "outputs": [
    {
     "name": "stdout",
     "output_type": "stream",
     "text": [
      "['A', 'lot', 'of', 'spaces']\n",
      "['first;second;third']\n",
      "1\n",
      "['first', 'second', 'third']\n",
      "3\n"
     ]
    }
   ],
   "source": [
    "line = 'A lot of           spaces'\n",
    "etc = line.split()\n",
    "print(etc)\n",
    "line = 'first;second;third'\n",
    "thing = line.split()\n",
    "print(thing)\n",
    "print(len(thing))\n",
    "thing= line.split(';')\n",
    "print(thing)\n",
    "print(len(thing))"
   ]
  },
  {
   "cell_type": "code",
   "execution_count": 6,
   "id": "bc150349",
   "metadata": {},
   "outputs": [
    {
     "name": "stdout",
     "output_type": "stream",
     "text": [
      "['From', 'stephen.marquard@uct.ac.za', 'Sat', 'Jan', '5', '09:14:16', '2008']\n"
     ]
    }
   ],
   "source": [
    "line = 'From stephen.marquard@uct.ac.za Sat Jan 5 09:14:16 2008'\n",
    "#Split on the basis of spaces\n",
    "words = line.split()\n",
    "print(words)"
   ]
  },
  {
   "cell_type": "code",
   "execution_count": 9,
   "id": "c880b8c2",
   "metadata": {},
   "outputs": [
    {
     "name": "stdout",
     "output_type": "stream",
     "text": [
      "stephen.marquard@uct.ac.za\n",
      "stephen.marquard@uct.ac.za\\n\n",
      "louis@media.berkeley.edu\\n\n",
      "zqian@umich.edu\\n\n",
      "rjlowe@iupui.edu\\n\n"
     ]
    }
   ],
   "source": [
    "fhand = open('filesfolder.txt')\n",
    "for line in fhand:\n",
    "    line = line.rstrip()\n",
    "    if not line.startswith('From'): continue\n",
    "    words = line.split()\n",
    "    print(words[1])"
   ]
  },
  {
   "cell_type": "markdown",
   "id": "4cb0b1d5",
   "metadata": {},
   "source": [
    "# Double Split Pattern"
   ]
  },
  {
   "cell_type": "code",
   "execution_count": 10,
   "id": "b5d19be2",
   "metadata": {},
   "outputs": [
    {
     "name": "stdout",
     "output_type": "stream",
     "text": [
      "stephen.marquard@uct.ac.za\n"
     ]
    }
   ],
   "source": [
    "line ='From stephen.marquard@uct.ac.za Sat Jan 5 09:14:16 2008'\n",
    "words = line.split()\n",
    "email = words[1]\n",
    "print(email)"
   ]
  },
  {
   "cell_type": "code",
   "execution_count": 11,
   "id": "8ddcb4ec",
   "metadata": {},
   "outputs": [
    {
     "name": "stdout",
     "output_type": "stream",
     "text": [
      "['stephen.marquard', 'uct.ac.za']\n",
      "uct.ac.za\n"
     ]
    }
   ],
   "source": [
    "line ='From stephen.marquard@uct.ac.za Sat Jan 5 09:14:16 2008'\n",
    "words = line.split()\n",
    "email = words[1]\n",
    "pieces = email.split('@')\n",
    "print(pieces)\n",
    "print(pieces[1])"
   ]
  },
  {
   "cell_type": "code",
   "execution_count": null,
   "id": "7d659972",
   "metadata": {},
   "outputs": [],
   "source": []
  }
 ],
 "metadata": {
  "kernelspec": {
   "display_name": "Python 3 (ipykernel)",
   "language": "python",
   "name": "python3"
  },
  "language_info": {
   "codemirror_mode": {
    "name": "ipython",
    "version": 3
   },
   "file_extension": ".py",
   "mimetype": "text/x-python",
   "name": "python",
   "nbconvert_exporter": "python",
   "pygments_lexer": "ipython3",
   "version": "3.11.4"
  }
 },
 "nbformat": 4,
 "nbformat_minor": 5
}
