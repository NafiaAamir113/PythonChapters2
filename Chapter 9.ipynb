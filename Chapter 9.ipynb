{
 "cells": [
  {
   "cell_type": "markdown",
   "id": "59b57c57",
   "metadata": {},
   "source": [
    "# Title: Python Dicitonaries"
   ]
  },
  {
   "cell_type": "code",
   "execution_count": 1,
   "id": "ad234101",
   "metadata": {},
   "outputs": [
    {
     "name": "stdout",
     "output_type": "stream",
     "text": [
      "{'Candy': '3', 'Money': 12, 'Tissues': 75}\n",
      "3\n",
      "5\n"
     ]
    }
   ],
   "source": [
    "#Dictionaries are like bag they have no order\n",
    "purse = dict()\n",
    "purse['Candy'] = '3'\n",
    "purse ['Money']= 12\n",
    "purse ['Tissues'] = 75\n",
    "print(purse)\n",
    "print(purse['Candy'])\n",
    "purse = int(purse['Candy']) + 2\n",
    "print(purse)"
   ]
  },
  {
   "cell_type": "markdown",
   "id": "70e60578",
   "metadata": {},
   "source": [
    "# Comparing List and Dictionaries"
   ]
  },
  {
   "cell_type": "code",
   "execution_count": 2,
   "id": "55b5e2de",
   "metadata": {},
   "outputs": [
    {
     "name": "stdout",
     "output_type": "stream",
     "text": [
      "[21, 183]\n",
      "[23, 183]\n"
     ]
    }
   ],
   "source": [
    "lst = list()\n",
    "lst.append(21)\n",
    "lst.append(183)\n",
    "print(lst)\n",
    "lst[0] = 23\n",
    "print(lst)"
   ]
  },
  {
   "cell_type": "code",
   "execution_count": 3,
   "id": "aa301d3a",
   "metadata": {},
   "outputs": [
    {
     "name": "stdout",
     "output_type": "stream",
     "text": [
      "{'age': 21, 'course': 182}\n",
      "{'age': 23, 'course': 183}\n"
     ]
    }
   ],
   "source": [
    "ddd = dict()\n",
    "ddd['age'] = 21\n",
    "ddd['course'] = 182\n",
    "print(ddd)\n",
    "ddd['age'] = 23\n",
    "ddd['course'] = 183\n",
    "print(ddd)"
   ]
  },
  {
   "cell_type": "markdown",
   "id": "b2153ec4",
   "metadata": {},
   "source": [
    "# Dictionary Literals"
   ]
  },
  {
   "cell_type": "code",
   "execution_count": 1,
   "id": "03ad6824",
   "metadata": {},
   "outputs": [
    {
     "name": "stdout",
     "output_type": "stream",
     "text": [
      "{'chuck': 1, 'fred': 3, 'jan': 100}\n",
      "{}\n"
     ]
    }
   ],
   "source": [
    "jjj= {'chuck': 1,'fred': 3,'jan': 100}\n",
    "print(jjj)\n",
    "lll = {}\n",
    "print(lll)"
   ]
  },
  {
   "cell_type": "markdown",
   "id": "48ef5431",
   "metadata": {},
   "source": [
    "# Many Counters With a Dictionary"
   ]
  },
  {
   "cell_type": "code",
   "execution_count": 4,
   "id": "06c95dfb",
   "metadata": {},
   "outputs": [
    {
     "name": "stdout",
     "output_type": "stream",
     "text": [
      "{'csev': 1, 'cwen': 1}\n",
      "{'csev': 1, 'cwen': 2}\n"
     ]
    }
   ],
   "source": [
    "ccc = dict()\n",
    "ccc['csev'] = 1\n",
    "ccc['cwen'] = 1\n",
    "print(ccc)\n",
    "ccc['cwen'] = ccc['cwen'] + 1\n",
    "print(ccc)\n"
   ]
  },
  {
   "cell_type": "markdown",
   "id": "e53c766f",
   "metadata": {},
   "source": [
    "# Count..When we see a new name"
   ]
  },
  {
   "cell_type": "code",
   "execution_count": 5,
   "id": "ddd24945",
   "metadata": {},
   "outputs": [
    {
     "name": "stdout",
     "output_type": "stream",
     "text": [
      "{'csev': 2, 'cwen': 2, 'zqain': 1}\n"
     ]
    }
   ],
   "source": [
    "counts = dict()\n",
    "names = ['csev','cwen','csev','zqain','cwen']\n",
    "for name in names:\n",
    "    if name not in counts:\n",
    "        counts[name] = 1\n",
    "    else:\n",
    "        counts[name] = counts[name] + 1\n",
    "print(counts)"
   ]
  },
  {
   "cell_type": "markdown",
   "id": "952a9c37",
   "metadata": {},
   "source": [
    "# get Method"
   ]
  },
  {
   "cell_type": "code",
   "execution_count": 6,
   "id": "781a13ca",
   "metadata": {},
   "outputs": [
    {
     "name": "stdout",
     "output_type": "stream",
     "text": [
      "{'csev': 2, 'cwen': 2, 'zqain': 1}\n"
     ]
    }
   ],
   "source": [
    "counts = dict()\n",
    "names = ['csev','cwen','csev','zqain','cwen']\n",
    "for name in names:\n",
    "    counts[name]= counts.get(name, 0) + 1\n",
    "print(counts)"
   ]
  },
  {
   "cell_type": "markdown",
   "id": "87a8c983",
   "metadata": {},
   "source": [
    "# Counting Pattern"
   ]
  },
  {
   "cell_type": "code",
   "execution_count": 7,
   "id": "06dc58a5",
   "metadata": {},
   "outputs": [
    {
     "name": "stdout",
     "output_type": "stream",
     "text": [
      "Enter a line of text:the clown ran after the car and the car ran  into the tent and the tent fell down on the clown and the car\n",
      "Words: ['the', 'clown', 'ran', 'after', 'the', 'car', 'and', 'the', 'car', 'ran', 'into', 'the', 'tent', 'and', 'the', 'tent', 'fell', 'down', 'on', 'the', 'clown', 'and', 'the', 'car']\n",
      "Counting....\n",
      "Counts {'the': 7, 'clown': 2, 'ran': 2, 'after': 1, 'car': 3, 'and': 3, 'into': 1, 'tent': 2, 'fell': 1, 'down': 1, 'on': 1}\n"
     ]
    }
   ],
   "source": [
    "counts = dict()\n",
    "line = input('Enter a line of text:')\n",
    "words = line.split()\n",
    "print('Words:',words)\n",
    "print('Counting....')\n",
    "for word in words:\n",
    "    counts[word]= counts.get(word,0) + 1\n",
    "print('Counts',counts)\n"
   ]
  },
  {
   "cell_type": "markdown",
   "id": "7b3636d9",
   "metadata": {},
   "source": [
    "# Definite Loops and Dictonaries"
   ]
  },
  {
   "cell_type": "code",
   "execution_count": 8,
   "id": "25bd6c46",
   "metadata": {},
   "outputs": [
    {
     "name": "stdout",
     "output_type": "stream",
     "text": [
      "chuck 1\n",
      "fred 42\n",
      "jan 33\n"
     ]
    }
   ],
   "source": [
    "counts = {'chuck': 1, 'fred': 42, 'jan': 33}\n",
    "for key in counts:\n",
    "    print(key,counts[key])"
   ]
  },
  {
   "cell_type": "code",
   "execution_count": 2,
   "id": "155b96d1",
   "metadata": {},
   "outputs": [
    {
     "name": "stdout",
     "output_type": "stream",
     "text": [
      "['chuck', 'fred', 'jan']\n",
      "dict_values([1, 42, 33])\n",
      "dict_items([('chuck', 1), ('fred', 42), ('jan', 33)])\n",
      "dict_keys(['chuck', 'fred', 'jan'])\n"
     ]
    }
   ],
   "source": [
    "a = dict()\n",
    "a = {'chuck': 1,'fred': 42,'jan': 33}\n",
    "print(list(a))\n",
    "print(a.values())\n",
    "print(a.items())\n",
    "print(a.keys())\n"
   ]
  },
  {
   "cell_type": "markdown",
   "id": "27883348",
   "metadata": {},
   "source": [
    "# Two Iteration Variables"
   ]
  },
  {
   "cell_type": "code",
   "execution_count": 11,
   "id": "f93f5bac",
   "metadata": {},
   "outputs": [
    {
     "name": "stdout",
     "output_type": "stream",
     "text": [
      "chuck 1\n",
      "fred 42\n",
      "jan 33\n"
     ]
    }
   ],
   "source": [
    "jjj= {'chuck': 1,'fred': 42,'jan': 33}\n",
    "for aaa,bbb in jjj.items():\n",
    "    print(aaa,bbb)"
   ]
  },
  {
   "cell_type": "code",
   "execution_count": null,
   "id": "7347b9f4",
   "metadata": {},
   "outputs": [],
   "source": []
  },
  {
   "cell_type": "code",
   "execution_count": null,
   "id": "c660c630",
   "metadata": {},
   "outputs": [],
   "source": []
  }
 ],
 "metadata": {
  "kernelspec": {
   "display_name": "Python 3 (ipykernel)",
   "language": "python",
   "name": "python3"
  },
  "language_info": {
   "codemirror_mode": {
    "name": "ipython",
    "version": 3
   },
   "file_extension": ".py",
   "mimetype": "text/x-python",
   "name": "python",
   "nbconvert_exporter": "python",
   "pygments_lexer": "ipython3",
   "version": "3.11.4"
  }
 },
 "nbformat": 4,
 "nbformat_minor": 5
}
