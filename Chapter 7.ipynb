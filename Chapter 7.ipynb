{
 "cells": [
  {
   "cell_type": "markdown",
   "id": "669ce91f",
   "metadata": {},
   "source": [
    "# Title: Reading Files"
   ]
  },
  {
   "cell_type": "markdown",
   "id": "0bbf2625",
   "metadata": {},
   "source": [
    "# Opening a file"
   ]
  },
  {
   "cell_type": "code",
   "execution_count": 1,
   "id": "175108f3",
   "metadata": {},
   "outputs": [
    {
     "name": "stdout",
     "output_type": "stream",
     "text": [
      "<_io.TextIOWrapper name='filesfolder.txt' mode='r' encoding='cp1252'>\n"
     ]
    }
   ],
   "source": [
    "fhand = open('filesfolder.txt', 'r')\n",
    "print(fhand)"
   ]
  },
  {
   "cell_type": "code",
   "execution_count": 2,
   "id": "8c5927b3",
   "metadata": {
    "scrolled": true
   },
   "outputs": [
    {
     "name": "stdout",
     "output_type": "stream",
     "text": [
      "Hello\n",
      "World!\n",
      "X\n",
      "Y\n",
      "3\n"
     ]
    }
   ],
   "source": [
    "stuff = 'Hello\\nWorld!'\n",
    "print(stuff)\n",
    "stuff = 'X\\nY'\n",
    "print(stuff)\n",
    "print(len(stuff))"
   ]
  },
  {
   "cell_type": "markdown",
   "id": "941c9b07",
   "metadata": {},
   "source": [
    "# File Handle as a sequence"
   ]
  },
  {
   "cell_type": "code",
   "execution_count": 9,
   "id": "ce8036f0",
   "metadata": {},
   "outputs": [
    {
     "name": "stdout",
     "output_type": "stream",
     "text": [
      "From stephen.marquard@uct.ac.za Sat Jan 5 09:14:16 2008\\n\n",
      "\n",
      "Return-Path: <postmaster@collab.sakaiproject.org>\\n\n",
      "\n",
      "Date: Sat, 5 Jan 2008 09:12:18 -0500\\n\n",
      "\n",
      "To: source@collab.sakaiproject.org\\n\n",
      "\n",
      "From: stephen.marquard@uct.ac.za\\n\n",
      "\n",
      "\\n\n",
      "\n",
      "From: louis@media.berkeley.edu\\n\n",
      "\n",
      "\\n\n",
      "\n",
      "From: zqian@umich.edu\\n\n",
      "\n",
      "\\n\n",
      "\n",
      "From: rjlowe@iupui.edu\\n\n",
      "\n",
      "\\n\n"
     ]
    }
   ],
   "source": [
    "xfile = open('filesfolder.txt')\n",
    "for text in xfile:\n",
    "    print(text)"
   ]
  },
  {
   "cell_type": "markdown",
   "id": "23b8dfcc",
   "metadata": {},
   "source": [
    "# Counting Lines in File"
   ]
  },
  {
   "cell_type": "code",
   "execution_count": 4,
   "id": "617fd9f9",
   "metadata": {},
   "outputs": [
    {
     "name": "stdout",
     "output_type": "stream",
     "text": [
      "Line Count: 12\n"
     ]
    }
   ],
   "source": [
    "xfile = open('filesfolder.txt')\n",
    "count = 0\n",
    "for line in xfile:\n",
    "    count = count + 1\n",
    "print('Line Count:',count)"
   ]
  },
  {
   "cell_type": "markdown",
   "id": "d5598099",
   "metadata": {},
   "source": [
    "# Reading the Whole File"
   ]
  },
  {
   "cell_type": "code",
   "execution_count": 5,
   "id": "83a5fd9f",
   "metadata": {},
   "outputs": [
    {
     "name": "stdout",
     "output_type": "stream",
     "text": [
      "314\n",
      "From stephen.marquar\n"
     ]
    }
   ],
   "source": [
    "xfile = open('filesfolder.txt')\n",
    "x = xfile.read()\n",
    "print(len(x))\n",
    "print(x[:20])"
   ]
  },
  {
   "cell_type": "markdown",
   "id": "05dabb35",
   "metadata": {},
   "source": [
    "# Searching Through Files"
   ]
  },
  {
   "cell_type": "code",
   "execution_count": 6,
   "id": "a4344f49",
   "metadata": {},
   "outputs": [
    {
     "name": "stdout",
     "output_type": "stream",
     "text": [
      "From: stephen.marquard@uct.ac.za\\n\n",
      "\n",
      "From: louis@media.berkeley.edu\\n\n",
      "\n",
      "From: zqian@umich.edu\\n\n",
      "\n",
      "From: rjlowe@iupui.edu\\n\n",
      "\n"
     ]
    }
   ],
   "source": [
    "xfile = open('filesfolder.txt')\n",
    "for line in xfile:\n",
    "    if line.startswith('From:'):\n",
    "        print(line)    "
   ]
  },
  {
   "cell_type": "code",
   "execution_count": 7,
   "id": "c2d485fc",
   "metadata": {},
   "outputs": [
    {
     "name": "stdout",
     "output_type": "stream",
     "text": [
      "From: stephen.marquard@uct.ac.za\\n\n",
      "From: louis@media.berkeley.edu\\n\n",
      "From: zqian@umich.edu\\n\n",
      "From: rjlowe@iupui.edu\\n\n"
     ]
    }
   ],
   "source": [
    "xfile = open('filesfolder.txt')\n",
    "for line in xfile:\n",
    "    line = line.rstrip()\n",
    "    if line.startswith('From:'):\n",
    "        print(line)       "
   ]
  },
  {
   "cell_type": "markdown",
   "id": "fd2ae88c",
   "metadata": {},
   "source": [
    "# Skipping With Continue"
   ]
  },
  {
   "cell_type": "code",
   "execution_count": 5,
   "id": "c3a6b3dd",
   "metadata": {},
   "outputs": [
    {
     "name": "stdout",
     "output_type": "stream",
     "text": [
      "From stephen.marquard@uct.ac.za Sat Jan 5 09:14:16 2008\\n\n",
      "From: stephen.marquard@uct.ac.za\\n\n",
      "From: louis@media.berkeley.edu\\n\n",
      "From: zqian@umich.edu\\n\n",
      "From: rjlowe@iupui.edu\\n\n"
     ]
    }
   ],
   "source": [
    "fhand = open('filesfolder.txt')\n",
    "for line in fhand:\n",
    "    line = line.rstrip()\n",
    "    if not line.startswith('From'):\n",
    "        continue\n",
    "    print(line)"
   ]
  },
  {
   "cell_type": "markdown",
   "id": "993a4961",
   "metadata": {},
   "source": [
    "# Using in to Select Lines"
   ]
  },
  {
   "cell_type": "code",
   "execution_count": 6,
   "id": "dc78fe6e",
   "metadata": {},
   "outputs": [
    {
     "name": "stdout",
     "output_type": "stream",
     "text": [
      "From stephen.marquard@uct.ac.za Sat Jan 5 09:14:16 2008\\n\n",
      "From: stephen.marquard@uct.ac.za\\n\n"
     ]
    }
   ],
   "source": [
    "fhand = open('filesfolder.txt')\n",
    "for line in fhand:\n",
    "    line = line.rstrip()\n",
    "    if not '@uct.ac.za' in line:\n",
    "        continue\n",
    "    print(line)"
   ]
  },
  {
   "cell_type": "markdown",
   "id": "2f4e914a",
   "metadata": {},
   "source": [
    "# Prompt for File Name"
   ]
  },
  {
   "cell_type": "code",
   "execution_count": 7,
   "id": "2a3a73b3",
   "metadata": {},
   "outputs": [
    {
     "name": "stdout",
     "output_type": "stream",
     "text": [
      "Enter the file name:filesfolder.txt\n",
      "There were 4 From lines in filesfolder.txt\n"
     ]
    }
   ],
   "source": [
    "fname = input('Enter the file name:')\n",
    "fhand = open(fname)\n",
    "count = 0\n",
    "for line in fhand:\n",
    "    if line.startswith('From:') :\n",
    "        count = count + 1\n",
    "print('There were', count, 'From lines in', fname)"
   ]
  },
  {
   "cell_type": "markdown",
   "id": "23ae1c40",
   "metadata": {},
   "source": [
    "# Bad File Names"
   ]
  },
  {
   "cell_type": "code",
   "execution_count": 1,
   "id": "2a9e7f1b",
   "metadata": {},
   "outputs": [
    {
     "name": "stdout",
     "output_type": "stream",
     "text": [
      "Enter the file name: filesfolder.txt\n",
      "There were 4 From lines in filesfolder.txt\n"
     ]
    }
   ],
   "source": [
    "fname = input('Enter the file name: ')\n",
    "try:\n",
    "    fhand = open(fname)\n",
    "except:\n",
    "    print('File cannot be opened:', fname)\n",
    "    quit()\n",
    "count = 0\n",
    "for line in fhand:\n",
    "    if line.startswith('From:') :\n",
    "        count = count + 1\n",
    "print('There were', count, 'From lines in', fname)"
   ]
  }
 ],
 "metadata": {
  "kernelspec": {
   "display_name": "Python 3 (ipykernel)",
   "language": "python",
   "name": "python3"
  },
  "language_info": {
   "codemirror_mode": {
    "name": "ipython",
    "version": 3
   },
   "file_extension": ".py",
   "mimetype": "text/x-python",
   "name": "python",
   "nbconvert_exporter": "python",
   "pygments_lexer": "ipython3",
   "version": "3.11.4"
  }
 },
 "nbformat": 4,
 "nbformat_minor": 5
}
